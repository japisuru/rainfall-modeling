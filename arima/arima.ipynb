{
  "nbformat": 4,
  "nbformat_minor": 0,
  "metadata": {
    "colab": {
      "name": "arima.ipynb",
      "version": "0.3.2",
      "provenance": [],
      "toc_visible": true
    },
    "kernelspec": {
      "name": "python3",
      "display_name": "Python 3"
    }
  },
  "cells": [
    {
      "cell_type": "markdown",
      "metadata": {
        "id": "PR0FacNFi6V3",
        "colab_type": "text"
      },
      "source": [
        "# ARIMA model for rainfall prediction"
      ]
    },
    {
      "cell_type": "markdown",
      "metadata": {
        "id": "2-oWOsm5kywa",
        "colab_type": "text"
      },
      "source": [
        "### Install pyramid-arima and necessary python libraries"
      ]
    },
    {
      "cell_type": "code",
      "metadata": {
        "id": "32X88cQialSQ",
        "colab_type": "code",
        "outputId": "99bb096b-0595-4501-cf81-01ca394bb9cc",
        "colab": {
          "base_uri": "https://localhost:8080/",
          "height": 51
        }
      },
      "source": [
        "!pip install -q pyramid-arima\n",
        "!pip install -q patsy\n",
        "!python3.6 -m pip install scipy==1.2 --upgrade\n"
      ],
      "execution_count": 0,
      "outputs": [
        {
          "output_type": "stream",
          "text": [
            "Requirement already up-to-date: scipy==1.2 in /usr/local/lib/python3.6/dist-packages (1.2.0)\n",
            "Requirement already satisfied, skipping upgrade: numpy>=1.8.2 in /usr/local/lib/python3.6/dist-packages (from scipy==1.2) (1.16.4)\n"
          ],
          "name": "stdout"
        }
      ]
    },
    {
      "cell_type": "markdown",
      "metadata": {
        "id": "qmIkyc6ElEGv",
        "colab_type": "text"
      },
      "source": [
        "### Import libs"
      ]
    },
    {
      "cell_type": "code",
      "metadata": {
        "id": "6Tw4INIFapsz",
        "colab_type": "code",
        "colab": {}
      },
      "source": [
        "import pandas as pd\n",
        "from matplotlib import  pyplot\n",
        "from pyramid.arima import  auto_arima"
      ],
      "execution_count": 0,
      "outputs": []
    },
    {
      "cell_type": "markdown",
      "metadata": {
        "id": "ac55Mw_PlJUo",
        "colab_type": "text"
      },
      "source": [
        "### Read data from Google drive\n",
        "#### Mount the Google Drive"
      ]
    },
    {
      "cell_type": "code",
      "metadata": {
        "id": "jnaEKRKQdOa3",
        "colab_type": "code",
        "outputId": "e88d6e05-3145-4c28-a062-bca92f6fd565",
        "colab": {
          "base_uri": "https://localhost:8080/",
          "height": 34
        }
      },
      "source": [
        "from google.colab import drive \n",
        "drive.mount('/content/gdrive')"
      ],
      "execution_count": 0,
      "outputs": [
        {
          "output_type": "stream",
          "text": [
            "Drive already mounted at /content/gdrive; to attempt to forcibly remount, call drive.mount(\"/content/gdrive\", force_remount=True).\n"
          ],
          "name": "stdout"
        }
      ]
    },
    {
      "cell_type": "markdown",
      "metadata": {
        "id": "ajFJHlHVle6b",
        "colab_type": "text"
      },
      "source": [
        "#### Read the CSV file using Pandas and convert to standard date-time format"
      ]
    },
    {
      "cell_type": "code",
      "metadata": {
        "id": "MZA1NhDhbWJr",
        "colab_type": "code",
        "outputId": "95e02f78-2728-4e56-8d18-fb81081e2b60",
        "colab": {
          "base_uri": "https://localhost:8080/",
          "height": 153
        }
      },
      "source": [
        "data = pd.read_csv('gdrive/My Drive/Colab Notebooks/Unicef_project/rainfall_Colombo_Angoda.csv', index_col=0)\n",
        "data.index = pd.to_datetime(data.index)\n",
        "print(data.index)"
      ],
      "execution_count": 0,
      "outputs": [
        {
          "output_type": "stream",
          "text": [
            "DatetimeIndex(['2009-01-01', '2009-02-01', '2009-03-01', '2009-04-01',\n",
            "               '2009-05-01', '2009-06-01', '2009-07-01', '2009-08-01',\n",
            "               '2009-09-01', '2009-10-01',\n",
            "               ...\n",
            "               '2019-03-01', '2019-04-01', '2019-05-01', '2019-06-01',\n",
            "               '2019-07-01', '2019-08-01', '2019-09-01', '2019-10-01',\n",
            "               '2019-11-01', '2019-12-01'],\n",
            "              dtype='datetime64[ns]', length=132, freq=None)\n"
          ],
          "name": "stdout"
        }
      ]
    },
    {
      "cell_type": "markdown",
      "metadata": {
        "id": "y1o9caPTlmmX",
        "colab_type": "text"
      },
      "source": [
        "### Create the ARIMA model"
      ]
    },
    {
      "cell_type": "code",
      "metadata": {
        "id": "3wxhxpDkbfmC",
        "colab_type": "code",
        "outputId": "335b34a2-8c6f-4e0a-f066-ec8361d231f9",
        "colab": {
          "base_uri": "https://localhost:8080/",
          "height": 272
        }
      },
      "source": [
        "stepwise_model = auto_arima(data, start_p=1, start_q=1, max_p=3, max_q=3, m=12, start_P=1, seasonal=True, d=1, D=1, trace=True, error_action='ignore', \n",
        "                           suppress_warnings=True, stepwise=True)\n",
        "\n",
        "print(stepwise_model.aic())"
      ],
      "execution_count": 0,
      "outputs": [
        {
          "output_type": "stream",
          "text": [
            "Fit ARIMA: order=(1, 1, 1) seasonal_order=(1, 1, 1, 12); AIC=1550.177, BIC=1566.852, Fit time=2.487 seconds\n",
            "Fit ARIMA: order=(0, 1, 0) seasonal_order=(0, 1, 0, 12); AIC=1671.300, BIC=1676.858, Fit time=0.180 seconds\n",
            "Fit ARIMA: order=(1, 1, 0) seasonal_order=(1, 1, 0, 12); AIC=1609.303, BIC=1620.420, Fit time=0.583 seconds\n",
            "Fit ARIMA: order=(0, 1, 1) seasonal_order=(0, 1, 1, 12); AIC=1549.460, BIC=1560.576, Fit time=1.301 seconds\n",
            "Fit ARIMA: order=(0, 1, 1) seasonal_order=(1, 1, 1, 12); AIC=1549.328, BIC=1563.224, Fit time=2.333 seconds\n",
            "Fit ARIMA: order=(0, 1, 1) seasonal_order=(1, 1, 0, 12); AIC=1580.638, BIC=1591.755, Fit time=1.356 seconds\n",
            "Fit ARIMA: order=(0, 1, 1) seasonal_order=(1, 1, 2, 12); AIC=1552.932, BIC=1569.607, Fit time=4.599 seconds\n",
            "Fit ARIMA: order=(0, 1, 1) seasonal_order=(0, 1, 0, 12); AIC=1613.297, BIC=1621.634, Fit time=0.370 seconds\n",
            "Fit ARIMA: order=(0, 1, 1) seasonal_order=(2, 1, 2, 12); AIC=1553.307, BIC=1572.761, Fit time=6.316 seconds\n",
            "Fit ARIMA: order=(0, 1, 0) seasonal_order=(1, 1, 1, 12); AIC=1609.590, BIC=1620.706, Fit time=0.823 seconds\n",
            "Fit ARIMA: order=(0, 1, 2) seasonal_order=(1, 1, 1, 12); AIC=1550.298, BIC=1566.973, Fit time=2.265 seconds\n",
            "Fit ARIMA: order=(1, 1, 2) seasonal_order=(1, 1, 1, 12); AIC=1553.329, BIC=1572.783, Fit time=2.847 seconds\n",
            "Fit ARIMA: order=(0, 1, 1) seasonal_order=(2, 1, 1, 12); AIC=1550.332, BIC=1567.006, Fit time=4.743 seconds\n",
            "Total fit time: 30.213 seconds\n",
            "1549.328383026303\n"
          ],
          "name": "stdout"
        }
      ]
    },
    {
      "cell_type": "markdown",
      "metadata": {
        "id": "-FOoMOFIlzHf",
        "colab_type": "text"
      },
      "source": [
        "### Create the train and test datasets"
      ]
    },
    {
      "cell_type": "code",
      "metadata": {
        "id": "MS45ijqlgApK",
        "colab_type": "code",
        "outputId": "18c0e827-3646-4014-a05c-6b368fc32071",
        "colab": {
          "base_uri": "https://localhost:8080/",
          "height": 34
        }
      },
      "source": [
        "train = data.loc['2009-01-01':'2019-04-01']\n",
        "test = data.loc['2019-01-01':]\n",
        "\n",
        "print(len(train), len(test))"
      ],
      "execution_count": 0,
      "outputs": [
        {
          "output_type": "stream",
          "text": [
            "124 12\n"
          ],
          "name": "stdout"
        }
      ]
    },
    {
      "cell_type": "markdown",
      "metadata": {
        "id": "tx-srRavl4UP",
        "colab_type": "text"
      },
      "source": [
        "### Train the ARIMA model"
      ]
    },
    {
      "cell_type": "code",
      "metadata": {
        "id": "Cn4zNLFHgC3r",
        "colab_type": "code",
        "outputId": "26cc2dea-9d64-4065-b8eb-945952f8bc6f",
        "colab": {
          "base_uri": "https://localhost:8080/",
          "height": 85
        }
      },
      "source": [
        "stepwise_model.fit(train)"
      ],
      "execution_count": 0,
      "outputs": [
        {
          "output_type": "execute_result",
          "data": {
            "text/plain": [
              "ARIMA(callback=None, disp=0, maxiter=50, method=None, order=(0, 1, 1),\n",
              "      out_of_sample_size=0, scoring='mse', scoring_args={},\n",
              "      seasonal_order=(1, 1, 1, 12), solver='lbfgs', start_params=None,\n",
              "      suppress_warnings=True, transparams=True, trend='c')"
            ]
          },
          "metadata": {
            "tags": []
          },
          "execution_count": 68
        }
      ]
    },
    {
      "cell_type": "markdown",
      "metadata": {
        "id": "e3VTE3r4l80o",
        "colab_type": "text"
      },
      "source": [
        "### Predict for 12 steps ahead"
      ]
    },
    {
      "cell_type": "code",
      "metadata": {
        "id": "1alOfqh0gHTp",
        "colab_type": "code",
        "colab": {}
      },
      "source": [
        "future_forecast = stepwise_model.predict(n_periods=12)\n",
        "print(future_forecast)"
      ],
      "execution_count": 0,
      "outputs": []
    },
    {
      "cell_type": "markdown",
      "metadata": {
        "id": "Dq6bJOhsmB2n",
        "colab_type": "text"
      },
      "source": [
        "### Create a table with the current rainfall stats and the predicted stats"
      ]
    },
    {
      "cell_type": "code",
      "metadata": {
        "id": "7V8i34vagWIk",
        "colab_type": "code",
        "colab": {}
      },
      "source": [
        "future_forecast = pd.DataFrame(future_forecast, index=test.index, columns=['Prediction'])\n",
        "\n",
        "data_n = pd.concat([test, future_forecast], axis=1)\n",
        "print(data_n)"
      ],
      "execution_count": 0,
      "outputs": []
    },
    {
      "cell_type": "markdown",
      "metadata": {
        "id": "vcrGz4lFmIqP",
        "colab_type": "text"
      },
      "source": [
        "### Plot the predictions"
      ]
    },
    {
      "cell_type": "code",
      "metadata": {
        "id": "a9mMDubti3wo",
        "colab_type": "code",
        "outputId": "c7ba07c1-0f35-414a-d2ee-4d2c95ec4283",
        "colab": {
          "base_uri": "https://localhost:8080/",
          "height": 281
        }
      },
      "source": [
        "data_n.plot()\n",
        "pyplot.show()"
      ],
      "execution_count": 0,
      "outputs": [
        {
          "output_type": "display_data",
          "data": {
            "image/png": "[encoded data removed]",
            "text/plain": [
              "<Figure size 432x288 with 1 Axes>"
            ]
          },
          "metadata": {
            "tags": []
          }
        }
      ]
    }
  ]
}